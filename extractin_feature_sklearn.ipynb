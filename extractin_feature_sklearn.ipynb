{
  "nbformat": 4,
  "nbformat_minor": 0,
  "metadata": {
    "colab": {
      "provenance": [],
      "authorship_tag": "ABX9TyMPBC4qkn56HMSh3kD6ht3s",
      "include_colab_link": true
    },
    "kernelspec": {
      "name": "python3",
      "display_name": "Python 3"
    },
    "language_info": {
      "name": "python"
    }
  },
  "cells": [
    {
      "cell_type": "markdown",
      "metadata": {
        "id": "view-in-github",
        "colab_type": "text"
      },
      "source": [
        "<a href=\"https://colab.research.google.com/github/Rushikesh419/NLP/blob/main/extractin_feature_sklearn.ipynb\" target=\"_parent\"><img src=\"https://colab.research.google.com/assets/colab-badge.svg\" alt=\"Open In Colab\"/></a>"
      ]
    },
    {
      "cell_type": "code",
      "execution_count": 1,
      "metadata": {
        "id": "FN-1zY5Ni64k"
      },
      "outputs": [],
      "source": [
        "text=['This is a line',\n",
        "      'This is another line',\n",
        "      'Completly different line']"
      ]
    },
    {
      "cell_type": "code",
      "source": [
        "from sklearn.feature_extraction.text import CountVectorizer,TfidfTransformer"
      ],
      "metadata": {
        "id": "YARbOe8RjTXL"
      },
      "execution_count": 14,
      "outputs": []
    },
    {
      "cell_type": "code",
      "source": [
        "# help(CountVectorizer)"
      ],
      "metadata": {
        "id": "jyndOd-ZjbRZ"
      },
      "execution_count": 4,
      "outputs": []
    },
    {
      "cell_type": "code",
      "source": [
        "cv=CountVectorizer()"
      ],
      "metadata": {
        "id": "ylL8Ks1qjg9x"
      },
      "execution_count": 17,
      "outputs": []
    },
    {
      "cell_type": "code",
      "source": [
        "sparce_metrix=cv.fit_transform(text)"
      ],
      "metadata": {
        "id": "ctMX8NQRjj3B"
      },
      "execution_count": 18,
      "outputs": []
    },
    {
      "cell_type": "code",
      "source": [
        "sparce_metrix.todense()"
      ],
      "metadata": {
        "colab": {
          "base_uri": "https://localhost:8080/"
        },
        "id": "Jb_jpUVhjrMM",
        "outputId": "d244e5e9-194a-4cbc-eab5-d6722be9510c"
      },
      "execution_count": 19,
      "outputs": [
        {
          "output_type": "execute_result",
          "data": {
            "text/plain": [
              "matrix([[0, 0, 0, 1, 1, 1],\n",
              "        [1, 0, 0, 1, 1, 1],\n",
              "        [0, 1, 1, 0, 1, 0]])"
            ]
          },
          "metadata": {},
          "execution_count": 19
        }
      ]
    },
    {
      "cell_type": "code",
      "source": [
        "cv.vocabulary_"
      ],
      "metadata": {
        "colab": {
          "base_uri": "https://localhost:8080/"
        },
        "id": "lTgBPQIWkJnj",
        "outputId": "6068f8e6-c82f-4d28-9ff9-56dd7fe1643f"
      },
      "execution_count": 20,
      "outputs": [
        {
          "output_type": "execute_result",
          "data": {
            "text/plain": [
              "{'this': 5, 'is': 3, 'line': 4, 'another': 0, 'completly': 1, 'different': 2}"
            ]
          },
          "metadata": {},
          "execution_count": 20
        }
      ]
    },
    {
      "cell_type": "code",
      "source": [
        "tfidf=TfidfTransformer()"
      ],
      "metadata": {
        "id": "S865n5wDkhJY"
      },
      "execution_count": 15,
      "outputs": []
    },
    {
      "cell_type": "code",
      "source": [
        "sparce_metrix"
      ],
      "metadata": {
        "colab": {
          "base_uri": "https://localhost:8080/"
        },
        "id": "M-ifKME_kgoq",
        "outputId": "eedb30ab-2339-4d52-ddc5-cdc95eb30404"
      },
      "execution_count": 21,
      "outputs": [
        {
          "output_type": "execute_result",
          "data": {
            "text/plain": [
              "<3x6 sparse matrix of type '<class 'numpy.int64'>'\n",
              "\twith 10 stored elements in Compressed Sparse Row format>"
            ]
          },
          "metadata": {},
          "execution_count": 21
        }
      ]
    },
    {
      "cell_type": "code",
      "source": [
        "results=tfidf.fit_transform(sparce_metrix)"
      ],
      "metadata": {
        "id": "Sxq2P-79kctp"
      },
      "execution_count": 23,
      "outputs": []
    },
    {
      "cell_type": "code",
      "source": [
        "results.todense()"
      ],
      "metadata": {
        "colab": {
          "base_uri": "https://localhost:8080/"
        },
        "id": "LKRRnmMOldNZ",
        "outputId": "4f41c6c0-fed5-4670-d65b-91ba4f926309"
      },
      "execution_count": 25,
      "outputs": [
        {
          "output_type": "execute_result",
          "data": {
            "text/plain": [
              "matrix([[0.        , 0.        , 0.        , 0.61980538, 0.48133417,\n",
              "         0.61980538],\n",
              "        [0.63174505, 0.        , 0.        , 0.4804584 , 0.37311881,\n",
              "         0.4804584 ],\n",
              "        [0.        , 0.65249088, 0.65249088, 0.        , 0.38537163,\n",
              "         0.        ]])"
            ]
          },
          "metadata": {},
          "execution_count": 25
        }
      ]
    },
    {
      "cell_type": "code",
      "source": [
        "# all of above in one step\n",
        "from sklearn.feature_extraction.text import TfidfVectorizer"
      ],
      "metadata": {
        "id": "y4gRnXs1ll9r"
      },
      "execution_count": 26,
      "outputs": []
    },
    {
      "cell_type": "code",
      "source": [
        "tv=TfidfVectorizer()"
      ],
      "metadata": {
        "id": "QTlWp25Hl0yp"
      },
      "execution_count": 27,
      "outputs": []
    },
    {
      "cell_type": "code",
      "source": [
        "tv_results=tv.fit_transform(text)"
      ],
      "metadata": {
        "id": "-5_Thimll5hX"
      },
      "execution_count": 29,
      "outputs": []
    },
    {
      "cell_type": "code",
      "source": [
        "tv_results.todense()"
      ],
      "metadata": {
        "colab": {
          "base_uri": "https://localhost:8080/"
        },
        "id": "pe8HqgGGmCxa",
        "outputId": "ee8c7903-be99-4c77-f194-852c6b5b7215"
      },
      "execution_count": 31,
      "outputs": [
        {
          "output_type": "execute_result",
          "data": {
            "text/plain": [
              "matrix([[0.        , 0.        , 0.        , 0.61980538, 0.48133417,\n",
              "         0.61980538],\n",
              "        [0.63174505, 0.        , 0.        , 0.4804584 , 0.37311881,\n",
              "         0.4804584 ],\n",
              "        [0.        , 0.65249088, 0.65249088, 0.        , 0.38537163,\n",
              "         0.        ]])"
            ]
          },
          "metadata": {},
          "execution_count": 31
        }
      ]
    },
    {
      "cell_type": "code",
      "source": [],
      "metadata": {
        "id": "D36EQG2cmFQX"
      },
      "execution_count": null,
      "outputs": []
    }
  ]
}